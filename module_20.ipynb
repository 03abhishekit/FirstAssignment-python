{
 "cells": [
  {
   "cell_type": "markdown",
   "id": "b940e1de-1ae0-48ae-acd5-add60885b401",
   "metadata": {},
   "source": [
    "<!-- Q1. Which function is used to open a file? What are the different modes of opening a file? Explain each mode\n",
    "of file opening. -->"
   ]
  },
  {
   "cell_type": "markdown",
   "id": "114f37cc-e184-498f-92b6-3438e1cda202",
   "metadata": {},
   "source": [
    "In Python, the open() function is used to open a file. It returns a file object and takes two parameters: the file name and the mode.\n",
    "\n",
    "The different modes of opening a file are:\n",
    "\n",
    "Read Mode ('r'): Opens the file for reading. If the file does not exist, it raises an error.\n",
    "\n",
    "Write Mode ('w'): Opens the file for writing. If the file exists, it truncates the file to zero length. If the file does not exist, it creates a new file.\n",
    "\n",
    "Append Mode ('a'): Opens the file for appending. If the file does not exist, it creates a new file. Data written to the file is appended to the end.\n",
    "\n",
    "Read and Write Mode ('r+'): Opens the file for both reading and writing. The file must exist.\n",
    "\n",
    "Write and Read Mode ('w+'): Opens the file for both writing and reading. If the file exists, it truncates the file to zero length. If the file does not exist, it creates a new file.\n",
    "\n",
    "Append and Read Mode ('a+'): Opens the file for both appending and reading. If the file does not exist, it creates a new file. Data written to the file is appended to the end.\n",
    "\n",
    "Binary Mode ('b'): This is a binary mode used with other modes (e.g., 'rb', 'wb', 'ab') to open a file in binary format."
   ]
  },
  {
   "cell_type": "markdown",
   "id": "7aeda43f-29bf-4857-b236-092d4de482a7",
   "metadata": {},
   "source": [
    "<!-- Q2. Why close() function is used? Why is it important to close a file? -->"
   ]
  },
  {
   "cell_type": "markdown",
   "id": "831a69c5-3320-4473-9664-cee4f117eb4b",
   "metadata": {},
   "source": [
    "The close() function is used to close an open file. It is important to close a file to:\n",
    "\n",
    "Free Resources: Closing a file releases the resources associated with the file.\n",
    "\n",
    "Prevent Data Loss: Ensuring all data is written to the file. When you write to a file, data may be buffered. Closing the file flushes the buffer, ensuring all data is saved.\n",
    "\n",
    "Prevent File Corruption: Not closing a file can lead to file corruption, especially when dealing with larger files or critical data."
   ]
  },
  {
   "cell_type": "markdown",
   "id": "6dcfb835-d636-4933-abf8-c00b1028170d",
   "metadata": {},
   "source": [
    "<!-- Q3. Write a python program to create a text file. Write ‘I want to become a Data Scientist’ in that file. Then\n",
    "close the file. Open this file and read the content of the file -->"
   ]
  },
  {
   "cell_type": "code",
   "execution_count": 1,
   "id": "d41c9ad2-0952-49e4-bbc9-4507d889c704",
   "metadata": {},
   "outputs": [
    {
     "name": "stdout",
     "output_type": "stream",
     "text": [
      "I want to become a Data Scientist\n"
     ]
    }
   ],
   "source": [
    "# Creating and writing to a text file\n",
    "file = open('data_scientist.txt', 'w')\n",
    "file.write('I want to become a Data Scientist')\n",
    "file.close()\n",
    "\n",
    "# Reading the content of the text file\n",
    "file = open('data_scientist.txt', 'r')\n",
    "content = file.read()\n",
    "print(content)\n",
    "file.close()"
   ]
  },
  {
   "cell_type": "markdown",
   "id": "2d141267-c9ec-4a68-8081-7410dd5cc27a",
   "metadata": {},
   "source": [
    "<!-- Q4. Explain the following with python code: read(), readline() and readlines(). -->"
   ]
  },
  {
   "cell_type": "markdown",
   "id": "cac3826a-8d5e-4db4-b59b-3ac75ee04b78",
   "metadata": {},
   "source": [
    "read(): Reads the entire content of the file as a string.\n",
    "\n",
    "readline(): Reads one line from the file.\n",
    "\n",
    "readlines(): Reads all the lines of the file into a list, where each line is an element in the list."
   ]
  },
  {
   "cell_type": "code",
   "execution_count": null,
   "id": "ea38794c-a127-4f0f-b6ee-36a1ccb46aa8",
   "metadata": {},
   "outputs": [],
   "source": [
    "# Using read()\n",
    "file = open('sample.txt', 'r')\n",
    "content = file.read()\n",
    "print(\"Using read():\")\n",
    "print(content)\n",
    "file.close()\n",
    "\n",
    "# Using readline()\n",
    "file = open('sample.txt', 'r')\n",
    "line = file.readline()\n",
    "print(\"Using readline():\")\n",
    "print(line)\n",
    "file.close()\n",
    "\n",
    "# Using readlines()\n",
    "file = open('sample.txt', 'r')\n",
    "lines = file.readlines()\n",
    "print(\"Using readlines():\")\n",
    "print(lines)\n",
    "file.close()"
   ]
  },
  {
   "cell_type": "markdown",
   "id": "e59f54f8-1405-49ca-b0a6-f691058aaa9c",
   "metadata": {},
   "source": [
    "<!-- Q5. Explain why with statement is used with open(). What is the advantage of using with statement and -->\n",
    "<!-- open() together? -->"
   ]
  },
  {
   "cell_type": "code",
   "execution_count": null,
   "id": "3be47ec3-049b-46c7-bcc5-e2cf18fb2661",
   "metadata": {},
   "outputs": [],
   "source": []
  },
  {
   "cell_type": "markdown",
   "id": "0dc40f3a-0d47-401f-96ec-a77e81cf64dc",
   "metadata": {},
   "source": [
    "<!-- Q6. Explain the write() and writelines() functions. Give a suitable example. -->"
   ]
  },
  {
   "cell_type": "code",
   "execution_count": null,
   "id": "42e6b6dc-c031-44d6-a7ed-288c2ea59075",
   "metadata": {},
   "outputs": [],
   "source": []
  }
 ],
 "metadata": {
  "kernelspec": {
   "display_name": "Python 3 (ipykernel)",
   "language": "python",
   "name": "python3"
  },
  "language_info": {
   "codemirror_mode": {
    "name": "ipython",
    "version": 3
   },
   "file_extension": ".py",
   "mimetype": "text/x-python",
   "name": "python",
   "nbconvert_exporter": "python",
   "pygments_lexer": "ipython3",
   "version": "3.10.8"
  }
 },
 "nbformat": 4,
 "nbformat_minor": 5
}
