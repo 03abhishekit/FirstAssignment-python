{
 "cells": [
  {
   "cell_type": "markdown",
   "id": "61f47bd5-3fdc-4f34-ba7d-06ae254fe532",
   "metadata": {},
   "source": [
    "Q1. What is multiprocessing in Python? Why is it useful?\n",
    "Multiprocessing in Python involves using multiple processes to execute tasks concurrently. \n",
    "Each process runs independently and has its own memory space.\n",
    "This approach is useful because it allows for true parallelism, especially on multi-core processors, making it effective for CPU-bound tasks.\n"
   ]
  },
  {
   "cell_type": "markdown",
   "id": "0c3f7d66-23a6-49a9-b231-5800b62c1faa",
   "metadata": {},
   "source": [
    "Q2. What are the differences between multiprocessing and multithreading?\n",
    "Differences between Multiprocessing and Multithreading:\n",
    "\n",
    "Memory Space:\n",
    "\n",
    "Multiprocessing: Each process has its own memory space.\n",
    "Multithreading: Threads share the same memory space.\n",
    "\n",
    "Concurrency:\n",
    "\n",
    "Multiprocessing: Achieves true parallelism as processes can run on different CPU cores.\n",
    "Multithreading: Limited by the Global Interpreter Lock (GIL) in CPython, which allows only one thread to execute Python bytecode at a time.\n",
    "\n",
    "Performance:\n",
    "\n",
    "Multiprocessing: Better for CPU-bound tasks.\n",
    "Multithreading: More effective for I/O-bound tasks due to concurrent execution.\n",
    "\n",
    "Overhead:\n",
    "\n",
    "Multiprocessing: Higher overhead due to process creation and inter-process communication.\n",
    "Multithreading: Lower overhead as threads are lighter than processes."
   ]
  },
  {
   "cell_type": "code",
   "execution_count": null,
   "id": "e648f0dc-148f-4033-a9f7-9865f10f3092",
   "metadata": {},
   "outputs": [],
   "source": [
    "Q3. Write a Python code to create a process using the multiprocessing module.\n",
    "\n",
    "import multiprocessing\n",
    "\n",
    "def print_hello():\n",
    "    print(\"Hello from a process!\")\n",
    "\n",
    "if __name__ == \"__main__\":\n",
    "    p = multiprocessing.Process(target=print_hello)\n",
    "    p.start()\n",
    "    p.join()"
   ]
  },
  {
   "cell_type": "code",
   "execution_count": null,
   "id": "9ce8bad8-a3fc-4581-aa18-67a6fc5c53cd",
   "metadata": {},
   "outputs": [],
   "source": [
    "Q4. What is a multiprocessing pool in Python? Why is it used?\n",
    "A multiprocessing pool in Python is a collection of worker processes that can execute tasks concurrently. \n",
    "The Pool class in the multiprocessing module provides a convenient way to parallelize the execution of a function across multiple input values, distributing the input data across processes (data parallelism).\n",
    "\n",
    "It is used to manage a pool of worker processes, allowing for efficient distribution and execution of tasks, and helps in improving performance and resource utilization.\n"
   ]
  },
  {
   "cell_type": "code",
   "execution_count": null,
   "id": "82e5f598-8c2e-46ec-a659-179f4c8a83b1",
   "metadata": {},
   "outputs": [],
   "source": [
    "Q5. How can we create a pool of worker processes in Python using the multiprocessing module?\n",
    "\n",
    "We can create a pool of worker processes using the Pool class from the multiprocessing module. Here’s an example:\n",
    "\n",
    "\n",
    "    \n",
    "import multiprocessing\n",
    "\n",
    "def square(x):\n",
    "    return x * x\n",
    "\n",
    "if __name__ == \"__main__\":\n",
    "    with multiprocessing.Pool(processes=4) as pool:\n",
    "        results = pool.map(square, [1, 2, 3, 4, 5])\n",
    "        print(results)"
   ]
  },
  {
   "cell_type": "code",
   "execution_count": null,
   "id": "ce081d2b-7594-4929-844d-fe404df8746d",
   "metadata": {},
   "outputs": [],
   "source": [
    "Q6. Write a Python program to create 4 processes, each process should print a different number using the multiprocessing module in Python.\n",
    "\n",
    "\n",
    "import multiprocessing\n",
    "\n",
    "def print_number(number):\n",
    "    print(f\"Process ID: {multiprocessing.current_process().pid}, Number: {number}\")\n",
    "\n",
    "if __name__ == \"__main__\":\n",
    "    processes = []\n",
    "    numbers = [1, 2, 3, 4]\n",
    "    \n",
    "    for number in numbers:\n",
    "        p = multiprocessing.Process(target=print_number, args=(number,))\n",
    "        processes.append(p)\n",
    "        p.start()\n",
    "    \n",
    "    for p in processes:\n",
    "        p.join()"
   ]
  }
 ],
 "metadata": {
  "kernelspec": {
   "display_name": "Python 3 (ipykernel)",
   "language": "python",
   "name": "python3"
  },
  "language_info": {
   "codemirror_mode": {
    "name": "ipython",
    "version": 3
   },
   "file_extension": ".py",
   "mimetype": "text/x-python",
   "name": "python",
   "nbconvert_exporter": "python",
   "pygments_lexer": "ipython3",
   "version": "3.10.8"
  }
 },
 "nbformat": 4,
 "nbformat_minor": 5
}
