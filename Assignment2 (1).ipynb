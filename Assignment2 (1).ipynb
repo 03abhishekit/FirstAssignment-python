{
 "cells": [
  {
   "cell_type": "raw",
   "id": "7e6ab761-e45a-441e-b980-0e9467a8abac",
   "metadata": {},
   "source": [
    "# Ques 1.\n",
    "\n",
    "Python was developed by Guido van Rossum."
   ]
  },
  {
   "cell_type": "raw",
   "id": "47d8df3d-e52b-4b26-b449-8825c6579e98",
   "metadata": {},
   "source": [
    "# Ques 2.\n",
    "\n",
    "Python supports multiple programming paradigms, including procedural, object-oriented, and functional programming."
   ]
  },
  {
   "cell_type": "raw",
   "id": "b3038352-d4bb-4f1b-bec3-8cee489fce98",
   "metadata": {},
   "source": [
    "# Ques 3.\n",
    "\n",
    "Yes, Python is case-sensitive when dealing with identifiers. For example, variable1 and Variable1 are treated as different variables."
   ]
  },
  {
   "cell_type": "raw",
   "id": "c74dc114-cc52-4116-8484-cf710ca7161a",
   "metadata": {},
   "source": [
    "# Ques 4.\n",
    "\n",
    "The correct extension for Python files is '.py'."
   ]
  },
  {
   "cell_type": "raw",
   "id": "607f9d81-2c76-4cec-9dad-0ed0c1a94904",
   "metadata": {},
   "source": [
    "# Ques 5.\n",
    "\n",
    "Python code is interpreted. However, Python source code is first compiled into bytecode, which is then executed by the Python interpreter."
   ]
  },
  {
   "cell_type": "raw",
   "id": "cb647fc1-8ff7-4399-aa38-14b2b33b25b2",
   "metadata": {},
   "source": [
    "# Ques 6.\n",
    "\n",
    "Blocks of code in Python are defined using indentation. Examples include:\n",
    "Function bodies\n",
    "Loop bodies (for loops, while loops)\n",
    "Conditional blocks (if, else, elif)"
   ]
  },
  {
   "cell_type": "raw",
   "id": "74d4e756-a6e0-4e44-aee2-7cf7048440e6",
   "metadata": {},
   "source": [
    "# Ques 7.\n",
    "\n",
    "The character # is used to indicate single-line comments in Python."
   ]
  },
  {
   "cell_type": "raw",
   "id": "8badc3f4-e9ec-4268-a5cb-1400d515c4c8",
   "metadata": {},
   "source": [
    "# Ques 8.\n",
    "\n",
    "Two functions that can be used to find the Python version are sys.version and platform.python_version()."
   ]
  },
  {
   "cell_type": "raw",
   "id": "8218414e-c7e0-4d1c-8e25-1f4e84617e30",
   "metadata": {},
   "source": [
    "# Ques 9.\n",
    "\n",
    "Python supports the creation of anonymous functions at runtime using the lambda keyword."
   ]
  },
  {
   "cell_type": "raw",
   "id": "88404247-4c01-46fe-9e62-d15c152e16b3",
   "metadata": {},
   "source": [
    "# Ques 10.\n",
    "\n",
    "Pip stands for \"Pip Installs Packages\". It is a package management system used to install and manage software packages written in Python.\n"
   ]
  },
  {
   "cell_type": "raw",
   "id": "3a085bb0-6de7-4e87-9f38-0f6da2662fe4",
   "metadata": {},
   "source": [
    "# Ques 11.\n",
    "\n",
    "Some built-in functions in Python include print(), len(), input(), type(), range(), sum(), max(), min(), abs(), etc."
   ]
  },
  {
   "cell_type": "raw",
   "id": "d763c0d8-55bf-4005-9141-34de1a67e5ff",
   "metadata": {},
   "source": [
    "# Ques 12.\n",
    "\n",
    "In Python, the maximum length of an identifier is not explicitly defined. However, Python supports arbitrarily long identifiers, but it's recommended to keep identifiers reasonably short for readability."
   ]
  },
  {
   "cell_type": "raw",
   "id": "c043366f-27d8-424f-8cba-f18f34ccba9d",
   "metadata": {},
   "source": [
    "# Ques 13.\n",
    "\n",
    "Some benefits of using Python include its simplicity and readability, vast standard library, strong community support, platform independence, and extensive use in various domains such as web development, data science, machine learning, and automation."
   ]
  },
  {
   "cell_type": "raw",
   "id": "0c38e24b-e1b0-4656-b877-8ff222cfe181",
   "metadata": {},
   "source": [
    "# Ques 14.\n",
    "\n",
    "Memory management in Python is handled by Python's memory manager. Python uses reference counting along with a garbage collector to manage memory. Reference counting keeps track of the number of references to an object, and when the reference count drops to zero, the memory occupied by the object is released."
   ]
  },
  {
   "cell_type": "raw",
   "id": "fb7a5b92-7b83-4628-b97f-56ccdf4ab0e6",
   "metadata": {},
   "source": [
    "# Ques 15.\n",
    "\n",
    "To install Python on Windows, you can download the installer from the official Python website (https://www.python.org/) and follow the installation instructions. During installation, make sure to check the option to add Python to the system PATH. If not, you can manually add Python to the PATH environment variable in the system settings.\n"
   ]
  },
  {
   "cell_type": "raw",
   "id": "3cf0ae9f-3063-4dd6-a273-b9643f75e884",
   "metadata": {},
   "source": [
    "# Ques 16.\n",
    "\n",
    "Yes, indentation is required in Python to define blocks of code such as function bodies, loop bodies, and conditional blocks. Incorrect indentation can lead to syntax errors or logical errors in the code."
   ]
  }
 ],
 "metadata": {
  "kernelspec": {
   "display_name": "Python 3 (ipykernel)",
   "language": "python",
   "name": "python3"
  },
  "language_info": {
   "codemirror_mode": {
    "name": "ipython",
    "version": 3
   },
   "file_extension": ".py",
   "mimetype": "text/x-python",
   "name": "python",
   "nbconvert_exporter": "python",
   "pygments_lexer": "ipython3",
   "version": "3.10.8"
  }
 },
 "nbformat": 4,
 "nbformat_minor": 5
}
