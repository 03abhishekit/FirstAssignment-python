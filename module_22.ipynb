{
 "cells": [
  {
   "cell_type": "markdown",
   "id": "5508ffe6-55d9-4b8b-9af8-a884e02aa007",
   "metadata": {},
   "source": [
    "<!-- Q1. What is an Exception in python? Write the difference between Exceptions and syntax errors?. -->\n"
   ]
  },
  {
   "cell_type": "markdown",
   "id": "03b14c75-7613-48e0-82fb-30ca367f5d48",
   "metadata": {},
   "source": [
    "Exception:\n",
    "An exception is an event that occurs during the execution of a program that disrupts the normal flow of the program’s instructions. In Python, exceptions are errors that happen during the execution of a program. When an exception occurs, Python stops the current process and passes it to the calling process until it is handled. If not handled, the program will crash.\n",
    "\n",
    "Difference between Exceptions and Syntax Errors:\n",
    "\n",
    "Syntax Errors:\n",
    "\n",
    "These are detected by the parser when the code is being compiled.\n",
    "These occur when the code is not in the correct format.\n",
    "Examples include missing colons, incorrect indentation, etc.\n",
    "They are generally caught before the program starts running."
   ]
  },
  {
   "cell_type": "code",
   "execution_count": null,
   "id": "6d6435bb-286d-4cce-b7d3-32a2ae57faed",
   "metadata": {},
   "outputs": [],
   "source": [
    "# Syntax error example\n",
    "if True\n",
    "    print(\"This will cause a syntax error\")"
   ]
  },
  {
   "cell_type": "markdown",
   "id": "5eeda1eb-8b42-40f2-b366-59735c592aa2",
   "metadata": {},
   "source": [
    "Exceptions:\n",
    "\n",
    "These occur during the execution of the program.\n",
    "\n",
    "They indicate errors that occur due to various reasons like invalid operations, resource limitations, etc.\n",
    "\n",
    "Examples include division by zero, file not found, etc.\n",
    "\n",
    "They can be caught and handled using try-except blocks."
   ]
  },
  {
   "cell_type": "code",
   "execution_count": null,
   "id": "c91a9917-8f2d-45ab-acbb-02dbf0ee3cf0",
   "metadata": {},
   "outputs": [],
   "source": [
    "# Exception example\n",
    "try:\n",
    "    result = 10 / 0\n",
    "except ZeroDivisionError as e:\n",
    "    print(\"Caught an exception:\", e)"
   ]
  },
  {
   "cell_type": "markdown",
   "id": "4c72d9ed-ec12-4dca-aa53-fd7f262d493a",
   "metadata": {},
   "source": [
    "<!-- Q2. What happens when an exception is not handled? Explain with an example. -->\n"
   ]
  },
  {
   "cell_type": "markdown",
   "id": "8f5b0b83-73ec-4cd0-bd72-2d932193befa",
   "metadata": {},
   "source": [
    "ANS:-If an exception is not handled, the program terminates and an error message is displayed. This error message includes the type of the exception, details about the exception, and the traceback which shows the sequence of function calls that led to the error.\n"
   ]
  },
  {
   "cell_type": "code",
   "execution_count": null,
   "id": "d11e4f91-c48d-4a2d-9559-612717cce0f9",
   "metadata": {},
   "outputs": [],
   "source": [
    "# Unhandled exception example\n",
    "def divide(a, b):\n",
    "    return a / b\n",
    "\n",
    "print(divide(10, 0))"
   ]
  },
  {
   "cell_type": "markdown",
   "id": "b7138c3e-226c-4db9-9109-a01fd1cec91c",
   "metadata": {},
   "source": [
    "# Output\n",
    "\n",
    "Traceback (most recent call last):\n",
    "  File \"example.py\", line 5, in <module>\n",
    "    print(divide(10, 0))\n",
    "  File \"example.py\", line 2, in divide\n",
    "    return a / b\n",
    "ZeroDivisionError: division by zero"
   ]
  },
  {
   "cell_type": "markdown",
   "id": "eac65446-b4e4-4104-84f5-c2dd822f27bf",
   "metadata": {},
   "source": [
    "<!-- Q3. Which Python statements are used to catch and handle exceptions? Explain with an example. -->"
   ]
  },
  {
   "cell_type": "markdown",
   "id": "09fd6299-690f-440f-a6ef-bd3066fe919a",
   "metadata": {},
   "source": [
    "Python uses the try, except, else, and finally statements to catch and handle exceptions."
   ]
  },
  {
   "cell_type": "code",
   "execution_count": null,
   "id": "eac965ad-107f-44d0-bee0-7a3be0464381",
   "metadata": {},
   "outputs": [],
   "source": [
    "try:\n",
    "    # Code that may raise an exception\n",
    "    result = 10 / 2\n",
    "except ZeroDivisionError:\n",
    "    # Code that runs if an exception occurs\n",
    "    print(\"Cannot divide by zero\")\n",
    "else:\n",
    "    # Code that runs if no exception occurs\n",
    "    print(\"Division successful:\", result)\n",
    "finally:\n",
    "    # Code that runs no matter what\n",
    "    print(\"Execution completed\")\n",
    "    \n",
    "#     Division successful: 5.0\n",
    "#     Execution completed"
   ]
  },
  {
   "cell_type": "markdown",
   "id": "02b72ba6-badd-406a-bc8a-36390b556efc",
   "metadata": {},
   "source": [
    "<!--  Explain with an example: try and else, finally, raise. -->\n"
   ]
  },
  {
   "cell_type": "markdown",
   "id": "49d9b854-7e9c-4ac6-abf2-26f66dca6aca",
   "metadata": {},
   "source": [
    "ry and else:\n",
    "The else block is executed if the code in the try block does not raise an exception.\n",
    "\n",
    "finally:\n",
    "The finally block is executed no matter what, whether an exception occurred or not.\n",
    "\n",
    "raise:\n",
    "The raise statement is used to manually raise an exception."
   ]
  },
  {
   "cell_type": "code",
   "execution_count": null,
   "id": "dcc83155-bf16-49f7-bbeb-d4fedee4a8cb",
   "metadata": {},
   "outputs": [],
   "source": [
    "def check_positive(number):\n",
    "    if number < 0:\n",
    "        raise ValueError(\"Number must be positive\")\n",
    "\n",
    "try:\n",
    "    num = 10\n",
    "    check_positive(num)\n",
    "except ValueError as e:\n",
    "    print(\"Caught an exception:\", e)\n",
    "else:\n",
    "    print(\"No exception occurred. The number is positive.\")\n",
    "finally:\n",
    "    print(\"This block always executes.\")\n",
    "\n",
    "try:\n",
    "    num = -5\n",
    "    check_positive(num)\n",
    "except ValueError as e:\n",
    "    print(\"Caught an exception:\", e)\n",
    "else:\n",
    "    print(\"No exception occurred. The number is positive.\")\n",
    "finally:\n",
    "    print(\"This block always executes.\")\n",
    "    \n",
    "# Output:\n",
    "    \n",
    "# No exception occurred. The number is positive.\n",
    "# This block always executes.\n",
    "# Caught an exception: Number must be positive\n",
    "# This block always executes."
   ]
  },
  {
   "cell_type": "markdown",
   "id": "e87281dc-c97b-4bd5-8a0b-b7ebd569dc15",
   "metadata": {},
   "source": [
    "<!-- # Q5. What are Custom Exceptions in Python? Why do we need Custom Exceptions? Explain with an example. -->"
   ]
  },
  {
   "cell_type": "markdown",
   "id": "71986ab9-6706-4fd1-b54e-9e77798eab1b",
   "metadata": {},
   "source": [
    "Custom Exceptions:\n",
    "Custom exceptions are user-defined exceptions that are created by inheriting from the base Exception class. They allow for more specific error handling by creating exceptions that are meaningful within the context of a particular application.\n",
    "\n",
    "Why Custom Exceptions?\n",
    "\n",
    "To provide more informative error messages.\n",
    "To categorize exceptions into specific groups that make sense for the application.\n",
    "To add additional attributes or methods to the exception."
   ]
  },
  {
   "cell_type": "code",
   "execution_count": null,
   "id": "a9f064e1-49bf-407e-a530-9113deaf461e",
   "metadata": {},
   "outputs": [],
   "source": [
    "class NegativeValueError(Exception):\n",
    "    def __init__(self, value):\n",
    "        self.value = value\n",
    "        self.message = \"Negative values are not allowed.\"\n",
    "        super().__init__(self.message)\n",
    "\n",
    "def check_positive(number):\n",
    "    if number < 0:\n",
    "        raise NegativeValueError(number)\n",
    "\n",
    "try:\n",
    "    num = -10\n",
    "    check_positive(num)\n",
    "except NegativeValueError as e:\n",
    "    print(f\"Caught an exception: {e.message} Value: {e.value}\")"
   ]
  },
  {
   "cell_type": "markdown",
   "id": "dccb478f-2e3b-431e-963f-8c1d88d6c732",
   "metadata": {},
   "source": [
    "<!-- Q6. Create a custom exception class. Use this class to handle an exception. -->"
   ]
  },
  {
   "cell_type": "code",
   "execution_count": null,
   "id": "638fc66f-018f-41f9-9985-79bec2764a48",
   "metadata": {},
   "outputs": [],
   "source": [
    "class InvalidAgeError(Exception):\n",
    "    def __init__(self, age):\n",
    "        self.age = age\n",
    "        self.message = \"Invalid age. Age must be between 0 and 120.\"\n",
    "        super().__init__(self.message)\n",
    "\n",
    "def check_age(age):\n",
    "    if age < 0 or age > 120:\n",
    "        raise InvalidAgeError(age)\n",
    "\n",
    "try:\n",
    "    age = 150\n",
    "    check_age(age)\n",
    "except InvalidAgeError as e:\n",
    "    print(f\"Caught an exception: {e.message} Age: {e.age}\")"
   ]
  },
  {
   "cell_type": "code",
   "execution_count": null,
   "id": "04d76b14-4b92-4341-a538-5a31b617c1ed",
   "metadata": {},
   "outputs": [],
   "source": []
  },
  {
   "cell_type": "code",
   "execution_count": null,
   "id": "bf48f695-a336-40be-b3c8-29b8a7dc5d7a",
   "metadata": {},
   "outputs": [],
   "source": []
  },
  {
   "cell_type": "code",
   "execution_count": null,
   "id": "ae32a383-4e33-495a-bd44-e61b51f1b017",
   "metadata": {},
   "outputs": [],
   "source": []
  },
  {
   "cell_type": "code",
   "execution_count": null,
   "id": "54133e74-81a3-4bb1-9614-594fa82a7d4e",
   "metadata": {},
   "outputs": [],
   "source": []
  },
  {
   "cell_type": "code",
   "execution_count": null,
   "id": "9ccdbb96-854c-46ab-8a79-358fb3358eee",
   "metadata": {},
   "outputs": [],
   "source": []
  },
  {
   "cell_type": "code",
   "execution_count": null,
   "id": "4267a5a6-9b7a-49c0-997b-ecc647f751d2",
   "metadata": {},
   "outputs": [],
   "source": []
  },
  {
   "cell_type": "code",
   "execution_count": null,
   "id": "4dcb8471-77d0-4f73-9a2f-8ccdd8427a59",
   "metadata": {},
   "outputs": [],
   "source": []
  }
 ],
 "metadata": {
  "kernelspec": {
   "display_name": "Python 3 (ipykernel)",
   "language": "python",
   "name": "python3"
  },
  "language_info": {
   "codemirror_mode": {
    "name": "ipython",
    "version": 3
   },
   "file_extension": ".py",
   "mimetype": "text/x-python",
   "name": "python",
   "nbconvert_exporter": "python",
   "pygments_lexer": "ipython3",
   "version": "3.10.8"
  }
 },
 "nbformat": 4,
 "nbformat_minor": 5
}
