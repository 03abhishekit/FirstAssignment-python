{
 "cells": [
  {
   "cell_type": "markdown",
   "id": "3b5abee3-a1a1-4ebe-a6be-37a67c418516",
   "metadata": {},
   "source": [
    "<!-- Ques 1.) -->\n",
    "\n",
    "Artificial Intelligence (AI): Artificial Intelligence refers to the simulation of human intelligence processes by machines, especially computer systems. \n",
    "One example is virtual assistants like Siri or Alexa, which use AI algorithms to understand and respond to user commands.\n",
    "\n",
    "Machine Learning (ML): Machine Learning is a subset of AI that focuses on the development of algorithms that enable computers to learn from and make predictions or decisions based on data. \n",
    "An example is email spam filtering, where ML algorithms classify emails as spam or non-spam based on past examples.\n",
    "\n",
    "Deep Learning (DL): Deep Learning is a subfield of ML that uses neural networks with many layers to learn complex patterns from data. \n",
    "An example is image recognition software used in self-driving cars, which uses DL algorithms to identify objects in real-time."
   ]
  },
  {
   "cell_type": "markdown",
   "id": "1c01eb2a-e875-464e-8370-2d25830e5a62",
   "metadata": {},
   "source": [
    "<!-- Ques 2.) -->\n",
    "\n",
    "Supervised Learning: Supervised learning is a type of ML where the model is trained on a labeled dataset, meaning the input data is paired with corresponding output labels. The goal is to learn a mapping from input to output based on example input-output pairs.\n",
    "Examples include:\n",
    "Email spam classification\n",
    "Handwritten digit recognition\n",
    "Predicting house prices based on features like size, location, etc."
   ]
  },
  {
   "cell_type": "markdown",
   "id": "5638b5b9-8db9-41bf-902b-9097cb6e682e",
   "metadata": {},
   "source": [
    "<!-- Ques 3.) -->\n",
    "\n",
    "Unsupervised Learning: Unsupervised learning is a type of ML where the model is trained on an unlabeled dataset, meaning the input data has no corresponding output labels. The goal is to discover hidden patterns or structures in the data. \n",
    "Examples include:\n",
    "Clustering similar documents in a large corpus\n",
    "Customer segmentation for targeted marketing\n",
    "Dimensionality reduction for visualization or compression"
   ]
  },
  {
   "cell_type": "markdown",
   "id": "dee630c1-a3cb-414a-95b9-a7ab1e4e6b09",
   "metadata": {},
   "source": [
    "<!-- Ques 4.) -->\n",
    "\n",
    "AI (Artificial Intelligence): AI is the broader concept of machines being able to carry out tasks in a way that we would consider \"smart\".\n",
    "\n",
    "ML (Machine Learning): ML is a subset of AI that focuses on the development of algorithms enabling computers to learn from data and make predictions or decisions without being explicitly programmed.\n",
    "\n",
    "DL (Deep Learning): DL is a subset of ML that uses neural networks with many layers to learn complex patterns from large amounts of data.\n",
    "\n",
    "DS (Data Science): DS is an interdisciplinary field that uses scientific methods, algorithms, processes, and systems to extract insights and knowledge from structured and unstructured data."
   ]
  },
  {
   "cell_type": "markdown",
   "id": "a2b0f9e7-c903-4d2e-964a-2cdc24f400b8",
   "metadata": {},
   "source": [
    "<!-- Ques 5.) -->\n",
    "\n",
    "Supervised Learning: In supervised learning, the model is trained on a labeled dataset, where each example has a corresponding target label. The goal is to learn a mapping from input features to output labels.\n",
    "\n",
    "Unsupervised Learning: In unsupervised learning, the model is trained on an unlabeled dataset, where there are no corresponding output labels. The goal is to discover hidden patterns or structures in the data.\n",
    "\n",
    "Semi-supervised Learning: Semi-supervised learning is a combination of supervised and unsupervised learning, where the model is trained on a dataset that contains both labeled and unlabeled examples. The model learns from the labeled examples and uses the unlabeled examples to improve its performance."
   ]
  },
  {
   "cell_type": "markdown",
   "id": "25b6741e-26ba-4e53-bf21-a68fdf95deea",
   "metadata": {},
   "source": [
    "<!-- Ques 6.) -->\n",
    "\n",
    "Train Set: The train set is used to train the model's parameters or weights. It consists of labeled examples used to adjust the model's parameters during training.\n",
    "\n",
    "Test Set: The test set is used to evaluate the model's performance after training. It consists of labeled examples that were not seen by the model during training and helps assess the model's generalization ability.\n",
    "\n",
    "Validation Set: The validation set is used to fine-tune the model's hyperparameters and prevent overfitting. It consists of labeled examples used to tune parameters such as learning rate, regularization strength, etc., based on the model's performance on unseen data."
   ]
  },
  {
   "cell_type": "markdown",
   "id": "af1fa193-d68a-4b44-9d80-acd4a9030e3b",
   "metadata": {},
   "source": [
    "<!-- Ques 7.) -->\n",
    "\n",
    "Unsupervised learning can be used in anomaly detection by learning the normal patterns or structures in the data and identifying deviations from these norms as anomalies.\n",
    "For example, clustering algorithms like k-means can group similar data points together, and data points that fall outside these clusters can be considered anomalies.\n"
   ]
  },
  {
   "cell_type": "markdown",
   "id": "14d04522-8703-44c2-aad2-91c98e0af540",
   "metadata": {},
   "source": [
    "<!-- Ques 8.) -->\n",
    "\n"
   ]
  }
 ],
 "metadata": {
  "kernelspec": {
   "display_name": "Python 3 (ipykernel)",
   "language": "python",
   "name": "python3"
  },
  "language_info": {
   "codemirror_mode": {
    "name": "ipython",
    "version": 3
   },
   "file_extension": ".py",
   "mimetype": "text/x-python",
   "name": "python",
   "nbconvert_exporter": "python",
   "pygments_lexer": "ipython3",
   "version": "3.10.8"
  }
 },
 "nbformat": 4,
 "nbformat_minor": 5
}
