{
 "cells": [
  {
   "cell_type": "markdown",
   "id": "4485682a-ef88-4014-92ea-719adf20d14d",
   "metadata": {},
   "source": [
    "<!-- Ques 1. -->\n",
    "\n",
    "The keyword used to create a function in Python is def. Here's a function to return a list of odd numbers in the range of 1 to 25:\n"
   ]
  },
  {
   "cell_type": "code",
   "execution_count": null,
   "id": "493d4843-c89f-4611-8a6a-2f35b8cc5bc6",
   "metadata": {},
   "outputs": [],
   "source": [
    "def odd_numbers():\n",
    "    return [num for num in range(1, 26) if num % 2 != 0]\n",
    "\n",
    "\n",
    "print(odd_numbers())\n"
   ]
  },
  {
   "cell_type": "markdown",
   "id": "5ae085c9-450e-49fc-9237-32b4f6cf8eee",
   "metadata": {},
   "source": [
    "<!-- ques. 2) -->\n",
    "\n",
    "*args and **kwargs are used in Python functions to handle variable-length arguments. *args is used to pass a variable number of positional arguments to a function, while **kwargs is used to pass a variable number of keyword arguments to a function. Here are functions to demonstrate their use:"
   ]
  },
  {
   "cell_type": "code",
   "execution_count": null,
   "id": "447704d6-11c6-4a11-b6f2-b2bd4390c243",
   "metadata": {},
   "outputs": [],
   "source": [
    "def args_example(*args):\n",
    "    print(\"Positional arguments:\")\n",
    "    for arg in args:\n",
    "        print(arg)\n",
    "\n",
    "def kwargs_example(**kwargs):\n",
    "    print(\"Keyword arguments:\")\n",
    "    for key, value in kwargs.items():\n",
    "        print(f\"{key}: {value}\")\n",
    "\n",
    "\n",
    "args_example(1, 2, 3)\n",
    "kwargs_example(name='John', age=30)"
   ]
  },
  {
   "cell_type": "markdown",
   "id": "3269821e-ebd5-4b6d-94a0-97057296a9ff",
   "metadata": {},
   "source": [
    "<!-- Ques 3.) -->\n",
    "\n",
    "An iterator in Python is an object that implements the iterator protocol, which consists of the __iter__() method to initialize the iterator object and the __next__() method for iteration. Here's how to use these methods to print the first five elements of the given list:\n"
   ]
  },
  {
   "cell_type": "code",
   "execution_count": null,
   "id": "4da753af-5e65-4d3b-8ff9-07ce1e439217",
   "metadata": {},
   "outputs": [],
   "source": [
    "lst = [2, 4, 6, 8, 10, 12, 14, 16, 18, 20]\n",
    "\n",
    "\n",
    "iter_obj = iter(lst)\n",
    "\n",
    "\n",
    "for _ in range(5):\n",
    "    print(next(iter_obj))"
   ]
  },
  {
   "cell_type": "markdown",
   "id": "9671c94d-6d9b-4743-ad5d-b5c7cf8997be",
   "metadata": {},
   "source": [
    "<!-- Ques 4.) -->\n",
    "\n",
    "A generator function in Python is a special type of function that returns an iterator object and generates a sequence of values lazily. The yield keyword is used to yield values one at a time, pausing the function and saving its state between each value. Here's an example of a generator function:"
   ]
  },
  {
   "cell_type": "code",
   "execution_count": null,
   "id": "d2a01692-7a2d-4098-848e-39cac08ae131",
   "metadata": {},
   "outputs": [],
   "source": [
    "def generate_numbers(n):\n",
    "    for i in range(n):\n",
    "        yield i\n",
    "\n",
    "\n",
    "gen = generate_numbers(5)\n",
    "for num in gen:\n",
    "    print(num)"
   ]
  },
  {
   "cell_type": "markdown",
   "id": "cd4ea85d-7e31-4d07-89af-ed8081a7411f",
   "metadata": {},
   "source": [
    "<!--  Ques 5.) -->\n",
    "\n",
    "Here's a generator function for prime numbers less than 1000 and using the next() method to print the first 20 prime numbers:"
   ]
  },
  {
   "cell_type": "code",
   "execution_count": null,
   "id": "fb006374-1083-4d15-b6f4-97074287071d",
   "metadata": {},
   "outputs": [],
   "source": [
    "\n",
    "def is_prime(num):\n",
    "    if num <= 1:\n",
    "        return False\n",
    "    for i in range(2, int(num**0.5) + 1):\n",
    "        if num % i == 0:\n",
    "            return False\n",
    "    return True\n",
    "\n",
    "def prime_generator():\n",
    "    num = 2\n",
    "    count = 0\n",
    "    while count < 20:\n",
    "        if is_prime(num):\n",
    "            yield num\n",
    "            count += 1\n",
    "        num += 1\n",
    "\n",
    "\n",
    "gen = prime_generator()\n",
    "for _ in range(20):\n",
    "    print(next(gen))"
   ]
  }
 ],
 "metadata": {
  "kernelspec": {
   "display_name": "Python 3 (ipykernel)",
   "language": "python",
   "name": "python3"
  },
  "language_info": {
   "codemirror_mode": {
    "name": "ipython",
    "version": 3
   },
   "file_extension": ".py",
   "mimetype": "text/x-python",
   "name": "python",
   "nbconvert_exporter": "python",
   "pygments_lexer": "ipython3",
   "version": "3.10.8"
  }
 },
 "nbformat": 4,
 "nbformat_minor": 5
}
