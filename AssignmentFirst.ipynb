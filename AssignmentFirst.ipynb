{
 "cells": [
  {
   "cell_type": "raw",
   "id": "67d06535-9ff5-477f-a969-2bbddd744cc1",
   "metadata": {},
   "source": [
    "QUESTION 1.\n",
    "\n",
    "Some characteristics of Tuples:-\n",
    "1. Ordered:- Tuples maintain the order of elements as they are added.\n",
    "2. Immutable:-Once tuple are created , it cannot be changed or modified.\n",
    "3. Heterogeneous:-Tuples can contain elements of different data types.\n",
    "4. Hashable:- tuples are hashable.\n",
    "\n",
    "yes, tuples are immutable , means you cannot change the elements of a tuple once it created.\n",
    "\n"
   ]
  },
  {
   "cell_type": "raw",
   "id": "7d7ccfae-6255-43eb-8753-627713900d0c",
   "metadata": {},
   "source": [
    "QUESTION 2.\n",
    "\n",
    " The two tuples method in python:-\n",
    "1. count(): This method return the number of times a specified valur=es appears in the tuple.\n",
    "2.  index(): This method return the index of the first occurence of the specified value.\n"
   ]
  },
  {
   "cell_type": "code",
   "execution_count": 1,
   "id": "c9f1028d-0f9a-4cd5-9d25-cf0bb6d25f16",
   "metadata": {},
   "outputs": [
    {
     "name": "stdout",
     "output_type": "stream",
     "text": [
      "Count of 2 in the tuple: 3\n",
      "Index of 4 in the tuple: 3\n"
     ]
    }
   ],
   "source": [
    "my_tuple = (1, 2, 3, 4, 2, 5, 2)\n",
    "\n",
    "count_of_2 = my_tuple.count(2)\n",
    "print(\"Count of 2 in the tuple:\", count_of_2)  \n",
    "\n",
    "\n",
    "\n",
    "index_of_4 = my_tuple.index(4)\n",
    "print(\"Index of 4 in the tuple:\", index_of_4)\n"
   ]
  },
  {
   "cell_type": "raw",
   "id": "566eb397-6b18-4e09-8ace-29d1574f9a58",
   "metadata": {},
   "source": [
    "Tuples have only two built-in methods compared to lists primarily because tuples are immutable, while lists are mutable. "
   ]
  },
  {
   "cell_type": "raw",
   "id": "8dd71133-3675-4aaa-a613-96c1d0aabfdd",
   "metadata": {},
   "source": [
    "QUESTION 3.\n",
    "\n",
    "The collection data type that does not allow duplicate items is the set. Sets are unordered collections of unique elements.\n",
    "\n"
   ]
  },
  {
   "cell_type": "code",
   "execution_count": 2,
   "id": "bea9b27e-53a7-4ffe-8a18-ad4efd3d8565",
   "metadata": {},
   "outputs": [
    {
     "name": "stdout",
     "output_type": "stream",
     "text": [
      "[1, 2, 3, 4]\n"
     ]
    }
   ],
   "source": [
    "my_list = [1, 1, 1, 2, 1, 3, 1, 4, 2, 1, 2, 2, 2, 3, 2, 4, 3, 1, 3, 2, 3, 3, 3, 4, 4, 1, 4, 2, 4, 3, 4, 4]\n",
    "\n",
    "unique_elements = set(my_list)\n",
    "\n",
    "unique_list = list(unique_elements)\n",
    "\n",
    "print(unique_list)"
   ]
  },
  {
   "cell_type": "raw",
   "id": "7c0a55a1-61fc-4981-8124-5718160db715",
   "metadata": {},
   "source": [
    "QUESTION 4.\n",
    "\n",
    "union() method:\n",
    "union() method returns a new set containing all the unique elements from the original set as well as another set(s) or iterable(s). It does not modify the original set.\n",
    "\n",
    "update() method:\n",
    "update() method adds elements from another set(s) or iterable(s) to the original set. It modifies the original set in place.\n",
    "\n",
    "Examples:-\n",
    "set1 = {1, 2, 3}\n",
    "set2 = {3, 4, 5}\n",
    "\n",
    "\n"
   ]
  },
  {
   "cell_type": "code",
   "execution_count": 4,
   "id": "f421f89a-373d-4344-a0cd-26f8338a15f2",
   "metadata": {},
   "outputs": [
    {
     "name": "stdout",
     "output_type": "stream",
     "text": [
      "Union of set1 and set2: {1, 2, 3, 4, 5}\n",
      "Original set1: {1, 2, 3}\n",
      "Updated set1: {1, 2, 3, 4, 5}\n"
     ]
    }
   ],
   "source": [
    "set1 = {1, 2, 3}\n",
    "set2 = {3, 4, 5}\n",
    "# Example of union() method\n",
    "union_set = set1.union(set2)\n",
    "print(\"Union of set1 and set2:\", union_set)  \n",
    "\n",
    "print(\"Original set1:\", set1)\n",
    "\n",
    "\n",
    "# Example of update() method\n",
    "set1.update(set2)\n",
    "print(\"Updated set1:\", set1)  \n"
   ]
  },
  {
   "cell_type": "raw",
   "id": "340a7361-c84b-4f3e-8c9c-5fe27cf47fe2",
   "metadata": {},
   "source": [
    "QUESTION 5.\n",
    "\n",
    "Dictionary:-\n",
    "A dictionary in Python is a collection of key-value pairs. It is an unordered, mutable data type that is used to store data in the form of key-value pairs. Each key is unique within a dictionary, and it is used to access its corresponding value.\n",
    "\n",
    "Example:-\n",
    "my_dict = {\n",
    "    \"name\": \"John\",\n",
    "    \"age\": 30,\n",
    "    \"city\": \"New York\"\n",
    "}\n",
    "\n"
   ]
  },
  {
   "cell_type": "code",
   "execution_count": 5,
   "id": "b60f8845-d9c8-4c44-b343-75d1b2b8934e",
   "metadata": {},
   "outputs": [
    {
     "name": "stdout",
     "output_type": "stream",
     "text": [
      "Name: John\n",
      "Age: 30\n",
      "City: New York\n"
     ]
    }
   ],
   "source": [
    "my_dict = {\n",
    "    \"name\": \"John\",\n",
    "    \"age\": 30,\n",
    "    \"city\": \"New York\"\n",
    "}\n",
    "print(\"Name:\", my_dict[\"name\"]) \n",
    "\n",
    "print(\"Age:\", my_dict[\"age\"]) \n",
    "\n",
    "print(\"City:\", my_dict[\"city\"])  \n",
    "\n"
   ]
  },
  {
   "cell_type": "raw",
   "id": "e6087bdb-0406-46dc-98fb-8944f1f84f46",
   "metadata": {},
   "source": [
    "Dictionaries are unordered, meaning the order of elements is not guaranteed.\n",
    "If order is important, consider using the collections.OrderedDict class."
   ]
  },
  {
   "cell_type": "raw",
   "id": "82a398d2-4ab6-4575-80a7-d8a3cd32c25c",
   "metadata": {},
   "source": [
    "QUESTION 6.\n",
    "\n",
    "Yes, we can create a nested dictionary in Python. A nested dictionary is a dictionary where the values can be dictionaries themselves, allowing for multiple levels of key-value pairs.\n",
    "\n",
    "Example:-\n",
    "nested_dict = {\n",
    "    \"person1\": {\"name\": \"John\", \"age\": 30, \"city\": \"New York\"},\n",
    "    \"person2\": {\"name\": \"Emma\", \"age\": 25, \"city\": \"Los Angeles\"},\n",
    "    \"person3\": {\"name\": \"Mike\", \"age\": 35, \"city\": \"Chicago\"}\n",
    "}\n"
   ]
  },
  {
   "cell_type": "code",
   "execution_count": null,
   "id": "e07724fa-d36c-4c0a-a229-ba6b0e91298b",
   "metadata": {},
   "outputs": [],
   "source": [
    "nested_dict = {\n",
    "    \"person1\": {\"name\": \"John\", \"age\": 30, \"city\": \"New York\"},\n",
    "    \"person2\": {\"name\": \"Emma\", \"age\": 25, \"city\": \"Los Angeles\"},\n",
    "    \"person3\": {\"name\": \"Mike\", \"age\": 35, \"city\": \"Chicago\"}\n",
    "}\n",
    "\n",
    "print(\"Details of person1:\", nested_dict[\"person1\"])  \n",
    "\n",
    "print(\"Name of person2:\", nested_dict[\"person2\"][\"name\"])  \n",
    "\n",
    "print(\"Age of person3:\", nested_dict[\"person3\"][\"age\"])  \n"
   ]
  },
  {
   "cell_type": "code",
   "execution_count": null,
   "id": "c9a82484-a918-41ad-be72-a2df656be98a",
   "metadata": {},
   "outputs": [],
   "source": [
    "QUESTION 7.\n",
    "\n",
    "dict1 = {'language': 'Python', 'course': 'Data Science Masters'}\n",
    "\n",
    "# Adding 'topics' key using setdefault()\n",
    "dict1.setdefault('topics', ['Python', 'Machine Learning', 'Deep Learning'])\n",
    "\n",
    "print(dict1)\n"
   ]
  },
  {
   "cell_type": "raw",
   "id": "3a842c18-ab40-4487-b826-dd5355c95717",
   "metadata": {},
   "source": [
    "If the 'topics' key already existed in the dictionary, its value would remain unchanged."
   ]
  },
  {
   "cell_type": "raw",
   "id": "309752fc-8791-457d-a4a3-6c95a08e974e",
   "metadata": {},
   "source": [
    "QUESTION 8.\n",
    "\n",
    "There are three view objects:\n",
    "\n",
    "1. dict_keys:- This view object contains the keys of the dictionary.\n",
    "2. dict_values:- This view object contains the values of the dictionary.\n",
    "3. dict_items:- This view object contains the key-value pairs of the dictionary as tuples.\n"
   ]
  },
  {
   "cell_type": "code",
   "execution_count": null,
   "id": "0f79da19-6e2d-404a-9376-40537e5c354a",
   "metadata": {},
   "outputs": [],
   "source": [
    "dict1 = {'Sport': 'Cricket', 'Teams': ['India', 'Australia', 'England', 'South Africa', 'Sri Lanka', 'New Zealand']}\n",
    "\n",
    "print(\"Keys of the dictionary:\", dict1.keys())\n",
    "\n",
    "print(\"Values of the dictionary:\", dict1.values())\n",
    "\n",
    "print(\"Key-value pairs of the dictionary:\", dict1.items())"
   ]
  }
 ],
 "metadata": {
  "kernelspec": {
   "display_name": "Python 3 (ipykernel)",
   "language": "python",
   "name": "python3"
  },
  "language_info": {
   "codemirror_mode": {
    "name": "ipython",
    "version": 3
   },
   "file_extension": ".py",
   "mimetype": "text/x-python",
   "name": "python",
   "nbconvert_exporter": "python",
   "pygments_lexer": "ipython3",
   "version": "3.10.8"
  }
 },
 "nbformat": 4,
 "nbformat_minor": 5
}
