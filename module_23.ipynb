{
 "cells": [
  {
   "cell_type": "markdown",
   "id": "d07d3fc8-7de2-4d2c-8680-8fc2016e157f",
   "metadata": {},
   "source": [
    "Q1. Explain why we have to use the Exception class while creating a Custom Exception.\n",
    "Note: Here Exception class refers to the base class for all the exceptions."
   ]
  },
  {
   "cell_type": "markdown",
   "id": "9d9b7885-34aa-4bb5-9bd5-373d753d1549",
   "metadata": {},
   "source": [
    "When creating a custom exception in Python, we inherit from the Exception class because it is the base class for all built-in exceptions in Python. This ensures that our custom exception behaves like a standard exception, which means it can be caught using a try-except block, it can carry a message or other attributes, and it integrates well with the Python runtime's error handling mechanism."
   ]
  },
  {
   "cell_type": "code",
   "execution_count": null,
   "id": "a49defd1-4938-4604-8da1-ae677a2fe6fc",
   "metadata": {},
   "outputs": [],
   "source": [
    "class MyCustomException(Exception):\n",
    "    def __init__(self, message):\n",
    "        self.message = message\n",
    "        super().__init__(self.message)\n",
    "\n",
    "try:\n",
    "    raise MyCustomException(\"This is a custom exception\")\n",
    "except MyCustomException as e:\n",
    "    print(e)"
   ]
  },
  {
   "cell_type": "markdown",
   "id": "f45d2c78-a1fb-4808-9d09-295597af9389",
   "metadata": {},
   "source": [
    "Q2. Write a python program to print Python Exception Hierarchy."
   ]
  },
  {
   "cell_type": "markdown",
   "id": "b6b38146-ea2a-42cc-821f-bbe7b1412727",
   "metadata": {},
   "source": [
    "To print the Python Exception Hierarchy, we can use the inspect module to retrieve the classes and their base classes."
   ]
  },
  {
   "cell_type": "code",
   "execution_count": null,
   "id": "05092f8d-e6ed-40be-8ad6-ce3e740819b6",
   "metadata": {},
   "outputs": [],
   "source": [
    "import inspect\n",
    "\n",
    "def print_exception_hierarchy(cls, indent=0):\n",
    "    print(' ' * indent + cls.__name__)\n",
    "    for subclass in cls.__subclasses__():\n",
    "        print_exception_hierarchy(subclass, indent + 4)\n",
    "\n",
    "print_exception_hierarchy(BaseException)"
   ]
  },
  {
   "cell_type": "markdown",
   "id": "f2252c4c-a8b7-45e3-b92f-cd862dd8f158",
   "metadata": {},
   "source": [
    "Q3. What errors are defined in the ArithmeticError class? Explain any two with an example."
   ]
  },
  {
   "cell_type": "markdown",
   "id": "147862cc-d503-4048-a87c-a685499c604b",
   "metadata": {},
   "source": [
    "The ArithmeticError class is the base class for all errors that occur for numeric calculations. Some of the errors defined in this class include:\n",
    "\n",
    "ZeroDivisionError: Raised when division or modulo by zero takes place.\n",
    "OverflowError: Raised when the result of an arithmetic operation is too large to be expressed within the range of the data type.\n",
    "FloatingPointError: Raised when a floating-point operation fails."
   ]
  },
  {
   "cell_type": "code",
   "execution_count": null,
   "id": "834d14d0-a649-480e-9c24-246d4e91f7c9",
   "metadata": {},
   "outputs": [],
   "source": [
    "# Zero division Error\n",
    "try:\n",
    "    result = 10 / 0\n",
    "except ZeroDivisionError as e:\n",
    "    print(f\"Caught an exception: {e}\")"
   ]
  },
  {
   "cell_type": "code",
   "execution_count": null,
   "id": "eb4fbbee-7a5c-4273-b7eb-46d0281d4d22",
   "metadata": {},
   "outputs": [],
   "source": [
    "# Overflow Error\n",
    "import math\n",
    "\n",
    "try:\n",
    "    result = math.exp(1000)\n",
    "except OverflowError as e:\n",
    "    print(f\"Caught an exception: {e}\")"
   ]
  },
  {
   "cell_type": "markdown",
   "id": "1803ffd5-0f32-43a4-98c9-90ffc3dc980a",
   "metadata": {},
   "source": [
    "Q4. Why LookupError class is used? Explain with an example KeyError and IndexError."
   ]
  },
  {
   "cell_type": "markdown",
   "id": "9be31b39-4be1-4bf6-9a96-da3fabeb7bf9",
   "metadata": {},
   "source": [
    "The LookupError class is the base class for all exceptions that occur when a key or index used on a mapping or sequence is invalid.\n",
    "\n",
    "KeyError: Raised when a dictionary is accessed with a key that does not exist.\n",
    "IndexError: Raised when a sequence is accessed with an index that is out of range."
   ]
  },
  {
   "cell_type": "code",
   "execution_count": null,
   "id": "958ac02b-6622-4596-b16a-c4657c7d692b",
   "metadata": {},
   "outputs": [],
   "source": [
    "# Key Error\n",
    "try:\n",
    "    my_dict = {'a': 1, 'b': 2}\n",
    "    print(my_dict['c'])\n",
    "except KeyError as e:\n",
    "    print(f\"Caught an exception: {e}\")"
   ]
  },
  {
   "cell_type": "code",
   "execution_count": null,
   "id": "d5dda7d4-5df8-427a-9e76-bcd03d11a368",
   "metadata": {},
   "outputs": [],
   "source": [
    "# Index Error\n",
    "try:\n",
    "    my_list = [1, 2, 3]\n",
    "    print(my_list[5])\n",
    "except IndexError as e:\n",
    "    print(f\"Caught an exception: {e}\")"
   ]
  },
  {
   "cell_type": "markdown",
   "id": "1269d572-8ad0-4009-ade5-6da631af863b",
   "metadata": {},
   "source": [
    "Q5. Explain ImportError. What is ModuleNotFoundError?"
   ]
  },
  {
   "cell_type": "markdown",
   "id": "b653a5c3-a894-4ec2-a751-5b359ba6bd49",
   "metadata": {},
   "source": [
    "ImportError: This exception is raised when an import statement fails to import a module.\n",
    "\n",
    "ModuleNotFoundError: This is a subclass of ImportError that is raised specifically when a module cannot be found."
   ]
  },
  {
   "cell_type": "code",
   "execution_count": null,
   "id": "8b35a810-8bc0-4763-9ce6-72a45fb3b366",
   "metadata": {},
   "outputs": [],
   "source": [
    "try:\n",
    "    import non_existent_module\n",
    "except ImportError as e:\n",
    "    print(f\"Caught an ImportError: {e}\")\n",
    "\n",
    "try:\n",
    "    import another_non_existent_module\n",
    "except ModuleNotFoundError as e:\n",
    "    print(f\"Caught a ModuleNotFoundError: {e}\")"
   ]
  }
 ],
 "metadata": {
  "kernelspec": {
   "display_name": "Python 3 (ipykernel)",
   "language": "python",
   "name": "python3"
  },
  "language_info": {
   "codemirror_mode": {
    "name": "ipython",
    "version": 3
   },
   "file_extension": ".py",
   "mimetype": "text/x-python",
   "name": "python",
   "nbconvert_exporter": "python",
   "pygments_lexer": "ipython3",
   "version": "3.10.8"
  }
 },
 "nbformat": 4,
 "nbformat_minor": 5
}
