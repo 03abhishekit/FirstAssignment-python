{
 "cells": [
  {
   "cell_type": "markdown",
   "id": "6b61045c-a4bf-4901-a312-092abb63223b",
   "metadata": {},
   "source": [
    "<!-- Q1, Create a vehicle class with an init method having instance variables as name_of_vehicle, max_speed -->\n",
    "<!-- and average_of_vehicle. -->\n"
   ]
  },
  {
   "cell_type": "code",
   "execution_count": 3,
   "id": "10f7f58f-39c9-46da-9469-952d428bf1a4",
   "metadata": {},
   "outputs": [
    {
     "name": "stdout",
     "output_type": "stream",
     "text": [
      "Bike\n",
      "180\n",
      "40\n"
     ]
    }
   ],
   "source": [
    "class Vehicle:\n",
    "    def __init__(self, name_of_vehicle, max_speed, average_of_vehicle):\n",
    "        self.name_of_vehicle = name_of_vehicle\n",
    "        self.max_speed = max_speed\n",
    "        self.average_of_vehicle = average_of_vehicle\n",
    "\n",
    "# Example usage\n",
    "vehicle = Vehicle(\"Bike\", 180, 40)\n",
    "print(vehicle.name_of_vehicle)  # Output: Bike\n",
    "print(vehicle.max_speed)        # Output: 180\n",
    "print(vehicle.average_of_vehicle) # Output: 40"
   ]
  },
  {
   "cell_type": "markdown",
   "id": "691deb34-799f-4171-845f-92793e52a215",
   "metadata": {},
   "source": [
    "<!-- Q2. Create a child class car from the vehicle class created in Que 1, which will inherit the vehicle class.\n",
    "Create a method named seating_capacity which takes capacity as an argument and returns the name of\n",
    "the vehicle and its seating capacity. -->"
   ]
  },
  {
   "cell_type": "code",
   "execution_count": 4,
   "id": "e0496ddc-5fc6-458a-9f08-95dd4d5d9a06",
   "metadata": {},
   "outputs": [
    {
     "name": "stdout",
     "output_type": "stream",
     "text": [
      "The seating capacity of Sedan is 5.\n"
     ]
    }
   ],
   "source": [
    "class Car(Vehicle):\n",
    "    def seating_capacity(self, capacity):\n",
    "        return f\"The seating capacity of {self.name_of_vehicle} is {capacity}.\"\n",
    "\n",
    "# Example usage\n",
    "car = Car(\"Sedan\", 240, 15)\n",
    "print(car.seating_capacity(5))  # Output: The seating capacity of Sedan is 5."
   ]
  },
  {
   "cell_type": "markdown",
   "id": "000692e3-6a2b-4a89-93d4-19b17925910a",
   "metadata": {},
   "source": [
    "<!-- Q3. What is multiple inheritance? Write a python code to demonstrate multiple inheritance. -->\n",
    "\n"
   ]
  },
  {
   "cell_type": "code",
   "execution_count": 5,
   "id": "e9ba3de7-a55d-46bd-b196-6d06af2d620f",
   "metadata": {},
   "outputs": [],
   "source": [
    "class Father:\n",
    "    def skills(self):\n",
    "        return \"Programming\"\n",
    "\n",
    "class Mother:\n",
    "    def skills(self):\n",
    "        return \"Cooking\"\n",
    "\n",
    "class Child(Father, Mother):\n",
    "    def skills(self):\n",
    "        return f\"{super().skills()} and {Mother.skills(self)}\""
   ]
  },
  {
   "cell_type": "markdown",
   "id": "d02e45a0-0205-46c9-b914-1b895a58da48",
   "metadata": {},
   "source": [
    "<!-- # Q4. What are getter and setter in python? Create a class and create a getter and a setter method in this\n",
    "# class. -->"
   ]
  },
  {
   "cell_type": "markdown",
   "id": "95b09630-ca27-4df6-94d0-8d9aeb3a8e70",
   "metadata": {},
   "source": [
    "<!-- # Q5.What is method overriding in python? Write a python code to demonstrate method overriding. -->"
   ]
  }
 ],
 "metadata": {
  "kernelspec": {
   "display_name": "Python 3 (ipykernel)",
   "language": "python",
   "name": "python3"
  },
  "language_info": {
   "codemirror_mode": {
    "name": "ipython",
    "version": 3
   },
   "file_extension": ".py",
   "mimetype": "text/x-python",
   "name": "python",
   "nbconvert_exporter": "python",
   "pygments_lexer": "ipython3",
   "version": "3.10.8"
  }
 },
 "nbformat": 4,
 "nbformat_minor": 5
}
