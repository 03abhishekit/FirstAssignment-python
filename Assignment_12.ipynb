{
 "cells": [
  {
   "cell_type": "code",
   "execution_count": null,
   "id": "6d238ef6-03a4-428a-a642-bdd2789ffee9",
   "metadata": {},
   "outputs": [],
   "source": [
    "# Ques 1.)\n",
    "\n",
    "data = [('Sachin Tendulkar', 34357), ('Ricky Ponting', 27483), ('Jack Kallis', 25534), ('Virat Kohli', 24936)]\n",
    "sorted_data = sorted(data, key=lambda x: x[1])\n",
    "print(sorted_data)"
   ]
  },
  {
   "cell_type": "code",
   "execution_count": null,
   "id": "cf4888f5-b45e-4303-a2b6-d29136ca0d9b",
   "metadata": {},
   "outputs": [],
   "source": [
    "# Ques 2.)\n",
    "\n",
    "numbers = [1, 2, 3, 4, 5, 6, 7, 8, 9, 10]\n",
    "squares = list(map(lambda x: x**2, numbers))\n",
    "print(squares)\n"
   ]
  },
  {
   "cell_type": "code",
   "execution_count": null,
   "id": "e8e632fb-dcb8-4d7b-a87a-610a349de29d",
   "metadata": {},
   "outputs": [],
   "source": [
    "# Ques 3.)\n",
    "\n",
    "numbers = [1, 2, 3, 4, 5, 6, 7, 8, 9, 10]\n",
    "strings_tuple = tuple(map(lambda x: str(x), numbers))\n",
    "print(strings_tuple)"
   ]
  },
  {
   "cell_type": "code",
   "execution_count": null,
   "id": "c86f6aea-996e-447a-aa3b-97e4ce2ed6aa",
   "metadata": {},
   "outputs": [],
   "source": [
    "# Ques 4.)\n",
    "\n"
   ]
  }
 ],
 "metadata": {
  "kernelspec": {
   "display_name": "Python 3 (ipykernel)",
   "language": "python",
   "name": "python3"
  },
  "language_info": {
   "codemirror_mode": {
    "name": "ipython",
    "version": 3
   },
   "file_extension": ".py",
   "mimetype": "text/x-python",
   "name": "python",
   "nbconvert_exporter": "python",
   "pygments_lexer": "ipython3",
   "version": "3.10.8"
  }
 },
 "nbformat": 4,
 "nbformat_minor": 5
}
