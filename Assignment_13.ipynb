{
 "cells": [
  {
   "cell_type": "markdown",
   "id": "6628c423-6487-4a37-b7cc-8968b293ba3e",
   "metadata": {},
   "source": [
    "Q1. Explain Class and Object with respect to Object-Oriented Programming. Give a suitable example.\n",
    "\n",
    "Answer:-\n",
    "Class: In object-oriented programming (OOP), a class is a blueprint for creating objects. It defines the properties (attributes) and behaviors (methods) that objects of the class will have. Think of a class as a template or a prototype from which objects are created.\n",
    "Object: An object is an instance of a class. It represents a real-world entity that has a state and behavior. Objects are created based on the structure defined by the class.\n"
   ]
  },
  {
   "cell_type": "code",
   "execution_count": null,
   "id": "76680227-6109-4754-9d8b-cb0f5eae5bb9",
   "metadata": {},
   "outputs": [],
   "source": [
    "Example:\n",
    "\n",
    "class Car:\n",
    "    def __init__(self, make, model, year):\n",
    "        self.make = make\n",
    "        self.model = model\n",
    "        self.year = year\n",
    "\n",
    "    def display_info(self):\n",
    "        print(f\"Car Details: {self.year} {self.make} {self.model}\")\n",
    "\n",
    "\n",
    "car1 = Car(\"Toyota\", \"Camry\", 2020)\n",
    "car2 = Car(\"Tesla\", \"Model S\", 2021)\n",
    "\n",
    "\n",
    "car1.display_info()\n",
    "car2.display_info()"
   ]
  },
  {
   "cell_type": "markdown",
   "id": "e6d2da0b-f420-41cd-a2d7-b92dc0ca2653",
   "metadata": {},
   "source": [
    "Q2. Name the four pillars of OOPs.\n",
    "\n",
    "Answer:\n",
    "\n",
    "The four pillars of object-oriented programming are:\n",
    "\n",
    "Encapsulation: Encapsulation refers to the bundling of data (attributes) and methods (functions) that operate on the data into a single unit called a class. It hides the internal state of an object from the outside world and only exposes the necessary functionalities.\n",
    "\n",
    "Abstraction: Abstraction is the concept of hiding the complex implementation details and showing only the essential features of an object. It allows users to focus on what an object does, rather than how it does it.\n",
    "\n",
    "Inheritance: Inheritance is a mechanism in which a new class (subclass) inherits properties and behaviors from an existing class (superclass). It promotes code reusability and allows for the creation of a hierarchy of classes.\n",
    "\n",
    "Polymorphism: Polymorphism allows objects to be treated as instances of their parent class or their own class. It enables a single interface to represent different underlying forms (data types) and behavior."
   ]
  },
  {
   "cell_type": "markdown",
   "id": "875f3538-a5c5-4e00-a877-a5483b8fe7c4",
   "metadata": {},
   "source": [
    "Q3. Explain why the init() function is used. Give a suitable example.\n",
    "\n",
    "Answer:\n",
    "\n",
    "The __init__() function is a special method in Python classes that is called when a new object of the class is instantiated. It initializes the object's attributes with the values provided during object creation.\n",
    "It is commonly used to set up the initial state of an object by assigning initial values to its attributes.\n"
   ]
  },
  {
   "cell_type": "code",
   "execution_count": null,
   "id": "0e14c248-e0b4-4db8-8782-6779717cd2c0",
   "metadata": {},
   "outputs": [],
   "source": [
    "Example:\n",
    "\n",
    "class Person:\n",
    "    def __init__(self, name, age):\n",
    "        self.name = name\n",
    "        self.age = age\n",
    "\n",
    "person1 = Person(\"Alice\", 30)"
   ]
  },
  {
   "cell_type": "markdown",
   "id": "67ac4af7-ec5a-488c-a470-90dbbfb0b8e5",
   "metadata": {},
   "source": [
    "Q4. Why self is used in OOPs?\n",
    "\n",
    "Answer:\n",
    "\n",
    "In Python, self is a reference to the current instance of the class. It is used to access the attributes and methods of the current object within the class.\n",
    "When a method is called on an object, Python automatically passes the object itself as the first argument, which is conventionally named self.\n",
    "Using self, you can differentiate between the attributes/methods of the current object and those of the class itself."
   ]
  }
 ],
 "metadata": {
  "kernelspec": {
   "display_name": "Python 3 (ipykernel)",
   "language": "python",
   "name": "python3"
  },
  "language_info": {
   "codemirror_mode": {
    "name": "ipython",
    "version": 3
   },
   "file_extension": ".py",
   "mimetype": "text/x-python",
   "name": "python",
   "nbconvert_exporter": "python",
   "pygments_lexer": "ipython3",
   "version": "3.10.8"
  }
 },
 "nbformat": 4,
 "nbformat_minor": 5
}
